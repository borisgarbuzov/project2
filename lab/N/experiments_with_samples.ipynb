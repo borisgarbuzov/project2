{
 "cells": [
  {
   "cell_type": "markdown",
   "metadata": {},
   "source": [
    "# Try to understand Central Limit Theorem"
   ]
  },
  {
   "cell_type": "code",
   "execution_count": 1,
   "metadata": {},
   "outputs": [],
   "source": [
    "import numpy as np\n",
    "from matplotlib import pyplot as plt"
   ]
  },
  {
   "cell_type": "code",
   "execution_count": 2,
   "metadata": {},
   "outputs": [],
   "source": [
    "replication_count = 1000\n",
    "n_start = 1000\n",
    "n_stop = 10001\n",
    "n_step = 1000\n",
    "# ME = 0\n",
    "# DE = 1\n",
    "sample_size_array = np.arange(n_start, n_stop, n_step)\n",
    "count_rows = len(sample_size_array)\n",
    "count_colums = replication_count"
   ]
  },
  {
   "cell_type": "code",
   "execution_count": 3,
   "metadata": {
    "scrolled": false
   },
   "outputs": [],
   "source": [
    "sample_sum_matrix = np.full(shape=(count_rows, count_colums), fill_value=np.NaN)      # sum(sample)\n",
    "sample_bar_n_matrix = np.full(shape=(count_rows, count_colums), fill_value=np.NaN)    # sum(sample) / n\n",
    "sample_sum_sqrt_matrix = np.full(shape=(count_rows, count_colums), fill_value=np.NaN) # sum(sample) / n^(1/2)\n",
    "sample_sum_2_matrix = np.full(shape=(count_rows, count_colums), fill_value=np.NaN)    # sum(sample) / n^2\n",
    "CLT_matrix = np.full(shape=(count_rows, count_colums), fill_value=np.NaN)             # Central limit Theorem \n",
    "for row, n in enumerate(sample_size_array):\n",
    "    for i in range(0, replication_count):\n",
    "        sample = np.random.binomial(n = 1, p = 1/2, size = n) # normal(ME, DE, size = n) \n",
    "        \n",
    "        sample_sum_matrix[row][i] = np.sum(sample)\n",
    "        sample_bar_n_matrix[row, i] = np.sum(sample) / n\n",
    "        sample_sum_2_matrix[row, i] = np.sum(sample) / n**2\n",
    "        sample_sum_sqrt_matrix[row, i] = np.sum(sample) / np.sqrt(n)\n",
    "        CLT_matrix[row, i] = (np.sum(sample) - n * 1/2) / np.sqrt(n)"
   ]
  },
  {
   "cell_type": "code",
   "execution_count": 4,
   "metadata": {},
   "outputs": [
    {
     "name": "stdout",
     "output_type": "stream",
     "text": [
      "(10, 1000)\n",
      "[[4.88000000e-04 5.33000000e-04 5.18000000e-04 ... 4.90000000e-04\n",
      "  4.86000000e-04 4.77000000e-04]\n",
      " [2.38000000e-04 2.40750000e-04 2.51500000e-04 ... 2.53500000e-04\n",
      "  2.48250000e-04 2.61000000e-04]\n",
      " [1.63777778e-04 1.68666667e-04 1.66777778e-04 ... 1.62555556e-04\n",
      "  1.67444444e-04 1.65777778e-04]\n",
      " ...\n",
      " [6.21562500e-05 6.15312500e-05 6.34375000e-05 ... 6.30468750e-05\n",
      "  6.29062500e-05 6.26250000e-05]\n",
      " [5.51358025e-05 5.57654321e-05 5.57530864e-05 ... 5.58518519e-05\n",
      "  5.62592593e-05 5.46172840e-05]\n",
      " [5.00100000e-05 4.99200000e-05 4.97200000e-05 ... 5.01100000e-05\n",
      "  5.03600000e-05 5.00900000e-05]]\n"
     ]
    }
   ],
   "source": [
    "# sum(sample) / n^2\n",
    "print(sample_sum_2_matrix.shape)\n",
    "print(sample_sum_2_matrix)"
   ]
  },
  {
   "cell_type": "code",
   "execution_count": null,
   "metadata": {},
   "outputs": [
    {
     "name": "stdout",
     "output_type": "stream",
     "text": [
      "(10, 1000)\n",
      "[[0.488      0.533      0.518      ... 0.49       0.486      0.477     ]\n",
      " [0.476      0.4815     0.503      ... 0.507      0.4965     0.522     ]\n",
      " [0.49133333 0.506      0.50033333 ... 0.48766667 0.50233333 0.49733333]\n",
      " ...\n",
      " [0.49725    0.49225    0.5075     ... 0.504375   0.50325    0.501     ]\n",
      " [0.49622222 0.50188889 0.50177778 ... 0.50266667 0.50633333 0.49155556]\n",
      " [0.5001     0.4992     0.4972     ... 0.5011     0.5036     0.5009    ]]\n"
     ]
    }
   ],
   "source": [
    "# sum(sample) / n\n",
    "print(sample_bar_n_matrix.shape)\n",
    "print(sample_bar_n_matrix)"
   ]
  },
  {
   "cell_type": "code",
   "execution_count": null,
   "metadata": {},
   "outputs": [
    {
     "name": "stdout",
     "output_type": "stream",
     "text": [
      "(10, 1000)\n",
      "[[15.43191498 16.85493993 16.38059828 ... 15.49516053 15.36866943\n",
      "  15.08406444]\n",
      " [21.28736715 21.53333462 22.49484385 ... 22.67372929 22.20415502\n",
      "  23.34454969]\n",
      " [26.91143499 27.71476141 27.40438529 ... 26.71060339 27.51392981\n",
      "  27.24006853]\n",
      " ...\n",
      " [44.47539207 44.02817848 45.39217994 ... 45.11267145 45.01204839\n",
      "  44.81080227]\n",
      " [47.07577343 47.61336064 47.60281971 ... 47.68714712 48.03499766\n",
      "  46.63305456]\n",
      " [50.01       49.92       49.72       ... 50.11       50.36\n",
      "  50.09      ]]\n"
     ]
    }
   ],
   "source": [
    "# sum(sample) / n^(1/2)\n",
    "print(sample_sum_sqrt_matrix.shape)\n",
    "print(sample_sum_sqrt_matrix)"
   ]
  },
  {
   "cell_type": "code",
   "execution_count": null,
   "metadata": {},
   "outputs": [
    {
     "name": "stdout",
     "output_type": "stream",
     "text": [
      "(10, 1000)\n",
      "[[ 488.  533.  518. ...  490.  486.  477.]\n",
      " [ 952.  963. 1006. ... 1014.  993. 1044.]\n",
      " [1474. 1518. 1501. ... 1463. 1507. 1492.]\n",
      " ...\n",
      " [3978. 3938. 4060. ... 4035. 4026. 4008.]\n",
      " [4466. 4517. 4516. ... 4524. 4557. 4424.]\n",
      " [5001. 4992. 4972. ... 5011. 5036. 5009.]]\n"
     ]
    }
   ],
   "source": [
    "# sum(sample)\n",
    "print(sample_sum_matrix.shape)\n",
    "print(sample_sum_matrix)"
   ]
  },
  {
   "cell_type": "code",
   "execution_count": null,
   "metadata": {},
   "outputs": [
    {
     "name": "stdout",
     "output_type": "stream",
     "text": [
      "(10, 1000)\n",
      "[[-0.37947332  1.04355163  0.56920998 ... -0.31622777 -0.44271887\n",
      "  -0.72732386]\n",
      " [-1.07331263 -0.82734515  0.13416408 ...  0.31304952 -0.15652476\n",
      "   0.98386991]\n",
      " [-0.47469288  0.32863353  0.01825742 ... -0.67552449  0.12780193\n",
      "  -0.14605935]\n",
      " ...\n",
      " [-0.24596748 -0.69318107  0.67082039 ...  0.3913119   0.29068884\n",
      "   0.08944272]\n",
      " [-0.35839147  0.17919573  0.16865481 ...  0.25298221  0.60083276\n",
      "  -0.80111034]\n",
      " [ 0.01       -0.08       -0.28       ...  0.11        0.36\n",
      "   0.09      ]]\n"
     ]
    }
   ],
   "source": [
    "print(CLT_matrix.shape)\n",
    "print(CLT_matrix)"
   ]
  },
  {
   "cell_type": "code",
   "execution_count": null,
   "metadata": {},
   "outputs": [],
   "source": [
    "def plot_hist(array, label='', title='', figsize=(7,4), color='green', fontsize=10, shadow=True, grid=True):\n",
    "    plt.figure(figsize=figsize)\n",
    "    if title != '':\n",
    "        plt.title(title, fontsize=fontsize)\n",
    "    if grid:\n",
    "        plt.grid()\n",
    "    plt.hist(array, color=color, label=label)\n",
    "    plt.legend(loc='upper right', shadow=shadow, fontsize=fontsize)\n",
    "    plt.show()"
   ]
  },
  {
   "cell_type": "markdown",
   "metadata": {},
   "source": [
    "## sum(sample)"
   ]
  },
  {
   "cell_type": "code",
   "execution_count": null,
   "metadata": {
    "scrolled": false
   },
   "outputs": [
    {
     "name": "stdout",
     "output_type": "stream",
     "text": [
      "sample size = 1000\n",
      "mean = 499.787\n",
      "var = 268.239631\n"
     ]
    },
    {
     "data": {
      "image/png": "[encoded data removed]",
      "text/plain": [
       "<Figure size 504x288 with 1 Axes>"
      ]
     },
     "metadata": {
      "needs_background": "light"
     },
     "output_type": "display_data"
    },
    {
     "name": "stdout",
     "output_type": "stream",
     "text": [
      "sample size = 2000\n",
      "mean = 1000.023\n",
      "var = 457.714471\n"
     ]
    },
    {
     "data": {
      "image/png": "[encoded data removed]",
      "text/plain": [
       "<Figure size 504x288 with 1 Axes>"
      ]
     },
     "metadata": {
      "needs_background": "light"
     },
     "output_type": "display_data"
    },
    {
     "name": "stdout",
     "output_type": "stream",
     "text": [
      "sample size = 3000\n",
      "mean = 1498.961\n",
      "var = 804.203479\n"
     ]
    },
    {
     "data": {
      "image/png": "[encoded data removed]",
      "text/plain": [
       "<Figure size 504x288 with 1 Axes>"
      ]
     },
     "metadata": {
      "needs_background": "light"
     },
     "output_type": "display_data"
    },
    {
     "name": "stdout",
     "output_type": "stream",
     "text": [
      "sample size = 4000\n",
      "mean = 2000.346\n",
      "var = 1105.660284\n"
     ]
    },
    {
     "data": {
      "image/png": "[encoded data removed]",
      "text/plain": [
       "<Figure size 504x288 with 1 Axes>"
      ]
     },
     "metadata": {
      "needs_background": "light"
     },
     "output_type": "display_data"
    },
    {
     "name": "stdout",
     "output_type": "stream",
     "text": [
      "sample size = 5000\n",
      "mean = 2500.232\n",
      "var = 1190.722176\n"
     ]
    },
    {
     "data": {
      "image/png": "[encoded data removed]",
      "text/plain": [
       "<Figure size 504x288 with 1 Axes>"
      ]
     },
     "metadata": {
      "needs_background": "light"
     },
     "output_type": "display_data"
    }
   ],
   "source": [
    "for i, n in enumerate(sample_size_array):\n",
    "    print('sample size =', n)\n",
    "    print('mean =', np.mean(sample_sum_matrix[i]))\n",
    "    print('var =', np.var(sample_sum_matrix[i]))\n",
    "    plot_hist(array=sample_sum_matrix[i], label='sum(sample)', title='sample size = ' + str(n))"
   ]
  },
  {
   "cell_type": "markdown",
   "metadata": {},
   "source": [
    "## sum(sample) / n^(1/2)"
   ]
  },
  {
   "cell_type": "code",
   "execution_count": null,
   "metadata": {
    "scrolled": false
   },
   "outputs": [],
   "source": [
    "for i, n in enumerate(sample_size_array):\n",
    "    print('sample size =', n)\n",
    "    print('mean =', np.mean(sample_sum_sqrt_matrix[i]))\n",
    "    print('var =', np.var(sample_sum_sqrt_matrix[i]))\n",
    "    plot_hist(array=sample_sum_sqrt_matrix[i], label='sum(sample) / n^(1/2)', title='sample size = ' + str(n))"
   ]
  },
  {
   "cell_type": "markdown",
   "metadata": {},
   "source": [
    "## sum(sample) / n"
   ]
  },
  {
   "cell_type": "code",
   "execution_count": null,
   "metadata": {
    "scrolled": false
   },
   "outputs": [],
   "source": [
    "for i, n in enumerate(sample_size_array):\n",
    "    print('sample size =', n)\n",
    "    print('mean =', np.mean(sample_bar_n_matrix[i]))\n",
    "    print('var =', np.var(sample_bar_n_matrix[i]))\n",
    "    plot_hist(array=sample_bar_n_matrix[i], label='sum(sample) / n', title='sample size = ' + str(n))"
   ]
  },
  {
   "cell_type": "markdown",
   "metadata": {},
   "source": [
    "## sum(sample) / n^2"
   ]
  },
  {
   "cell_type": "code",
   "execution_count": null,
   "metadata": {
    "scrolled": false
   },
   "outputs": [],
   "source": [
    "for i, n in enumerate(sample_size_array):\n",
    "    print('sample size =', n)\n",
    "    print('mean =', np.mean(sample_sum_2_matrix[i]))\n",
    "    print('var =', np.var(sample_sum_2_matrix[i]))\n",
    "    plot_hist(array=sample_sum_2_matrix[i], label='sum(sample) / n**2', title='sample size = ' + str(n))"
   ]
  },
  {
   "cell_type": "markdown",
   "metadata": {},
   "source": [
    "## Central limit Theorem"
   ]
  },
  {
   "cell_type": "code",
   "execution_count": null,
   "metadata": {
    "scrolled": false
   },
   "outputs": [],
   "source": [
    "for i, n in enumerate(sample_size_array):\n",
    "    print('sample size =', n)\n",
    "    print('mean =', np.mean(CLT_matrix[i]))\n",
    "    print('var =', np.var(CLT_matrix[i]))\n",
    "    plot_hist(array=CLT_matrix[i], label='Central limit Theorem ', title='sample size = ' + str(n))"
   ]
  },
  {
   "cell_type": "code",
   "execution_count": null,
   "metadata": {},
   "outputs": [],
   "source": []
  }
 ],
 "metadata": {
  "kernelspec": {
   "display_name": "Python 3",
   "language": "python",
   "name": "python3"
  },
  "language_info": {
   "codemirror_mode": {
    "name": "ipython",
    "version": 3
   },
   "file_extension": ".py",
   "mimetype": "text/x-python",
   "name": "python",
   "nbconvert_exporter": "python",
   "pygments_lexer": "ipython3",
   "version": "3.7.0"
  }
 },
 "nbformat": 4,
 "nbformat_minor": 2
}
